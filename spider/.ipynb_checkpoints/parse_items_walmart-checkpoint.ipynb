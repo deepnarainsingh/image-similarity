{
 "cells": [
  {
   "cell_type": "code",
   "execution_count": 46,
   "metadata": {
    "collapsed": false
   },
   "outputs": [],
   "source": [
    "from lxml import html\n",
    "from urllib import urlretrieve\n",
    "import requests\n",
    "import os"
   ]
  },
  {
   "cell_type": "code",
   "execution_count": 47,
   "metadata": {
    "collapsed": false
   },
   "outputs": [],
   "source": [
    "urls = tuple(open('data.csv', 'r'))"
   ]
  },
  {
   "cell_type": "code",
   "execution_count": 52,
   "metadata": {
    "collapsed": true
   },
   "outputs": [],
   "source": [
    "def download_image(url, out_folder=\"./img/\"):\n",
    "    \"\"\"Downloads all the images at 'url' to /test/\"\"\"\n",
    "    tokens = url.split(\"/\")\n",
    "    filename = tokens[len(tokens) - 1]\n",
    "    outpath = os.path.join(out_folder, filename)\n",
    "    urlretrieve(url, outpath)\n"
   ]
  },
  {
   "cell_type": "code",
   "execution_count": 58,
   "metadata": {
    "collapsed": true
   },
   "outputs": [],
   "source": [
    "urls = ['http://www.walmart.com/ip/Grazie-Urban-Flip-Flop-Women-US-8-Silver-Flip-Flop-Sandal/49173475']"
   ]
  },
  {
   "cell_type": "code",
   "execution_count": 59,
   "metadata": {
    "collapsed": false
   },
   "outputs": [
    {
     "name": "stdout",
     "output_type": "stream",
     "text": [
      "http://www.walmart.com/ip/Grazie-Urban-Flip-Flop-Women-US-8-Silver-Flip-Flop-Sandal/49173475 Grazie Urban Flip Flop Women US 8 Silver Flip Flop Sandal http://i5.walmartimages.com/dfw/dce07b8c-8421/k2-_ce58803a-635d-4be5-80c4-484332817e21.v1.jpg\n"
     ]
    }
   ],
   "source": [
    "for url in urls:\n",
    "    url = url.rstrip()\n",
    "    page = requests.get(url)\n",
    "    tree = html.fromstring(page.content)\n",
    "    title = tree.xpath('//title/text()')[0].replace(\"- Walmart.com\", \"\").rstrip()\n",
    "    image = tree.xpath(\"//meta[@property='og:image']/@content\")[0].rstrip()\n",
    "    download_image(image)\n",
    "    print url,title,image"
   ]
  },
  {
   "cell_type": "code",
   "execution_count": 33,
   "metadata": {
    "collapsed": true
   },
   "outputs": [],
   "source": [
    "a=\"http://i5.walmartimages.com/dfw/dce07b8c-80d6/k2-_7c633dfa-c1e7-4355-919a-9f32b7a32384.v1.jpg\"\n",
    "tokens = a.split(\"/\")"
   ]
  },
  {
   "cell_type": "code",
   "execution_count": 35,
   "metadata": {
    "collapsed": false
   },
   "outputs": [
    {
     "data": {
      "text/plain": [
       "6"
      ]
     },
     "execution_count": 35,
     "metadata": {},
     "output_type": "execute_result"
    }
   ],
   "source": [
    "len(tokens)"
   ]
  },
  {
   "cell_type": "code",
   "execution_count": 37,
   "metadata": {
    "collapsed": false
   },
   "outputs": [
    {
     "data": {
      "text/plain": [
       "'k2-_7c633dfa-c1e7-4355-919a-9f32b7a32384.v1.jpg'"
      ]
     },
     "execution_count": 37,
     "metadata": {},
     "output_type": "execute_result"
    }
   ],
   "source": [
    "tokens[len(tokens) - 1]"
   ]
  },
  {
   "cell_type": "code",
   "execution_count": null,
   "metadata": {
    "collapsed": true
   },
   "outputs": [],
   "source": []
  }
 ],
 "metadata": {
  "kernelspec": {
   "display_name": "Python 2",
   "language": "python",
   "name": "python2"
  },
  "language_info": {
   "codemirror_mode": {
    "name": "ipython",
    "version": 2
   },
   "file_extension": ".py",
   "mimetype": "text/x-python",
   "name": "python",
   "nbconvert_exporter": "python",
   "pygments_lexer": "ipython2",
   "version": "2.7.11"
  }
 },
 "nbformat": 4,
 "nbformat_minor": 0
}
